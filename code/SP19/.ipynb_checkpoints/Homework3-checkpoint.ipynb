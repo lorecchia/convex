{
 "cells": [
  {
   "cell_type": "markdown",
   "metadata": {},
   "source": [
    "# Homework 3 Spring 2019 "
   ]
  },
  {
   "cell_type": "markdown",
   "metadata": {},
   "source": [
    "This page will help you visualize the function in Problem 2 in your homework, while teaching you a bit about the following python modules, in case you are not already familiar with them:\n",
    "- [SymPy](http://docs.sympy.org/latest/index.html), a library for symbolic computation;\n",
    "- [NumPy](http://www.numpy.org/), a library for scientific computation;\n",
    "- [Matplotlib.pyplot](https://matplotlib.org/api/pyplot_summary.html), a module to generate mathematical plots quickly and easily.\n",
    "\n",
    "<!-- A good resource for basic plotting is http://courses.csail.mit.edu/6.867/wiki/images/3/3f/Plot-python.pdf /-->\n",
    "\n",
    "Go through the cells below, reading the code and executing one cell at a time. Once you have gone through the example, solve the simple exercise at the bottom by creating your own cells and executing them. Submit your code cells and  resulting plots with your homework on Gradescope."
   ]
  },
  {
   "cell_type": "markdown",
   "metadata": {},
   "source": [
    "## Problem 1"
   ]
  },
  {
   "cell_type": "markdown",
   "metadata": {},
   "source": [
    "We are interested in the following function\n",
    "$f(x_1, x_2) = x_1^4 + x_2^4 − x_1 x_2^3 − x_1^2 x_2^2+ x_1^3 + x_2^3.$"
   ]
  },
  {
   "cell_type": "markdown",
   "metadata": {},
   "source": [
    "### Symbolic Differentiation\n",
    "\n",
    "Using the sympy module, we can differentiate the function symbolically."
   ]
  },
  {
   "cell_type": "code",
   "execution_count": null,
   "metadata": {
    "collapsed": false
   },
   "outputs": [],
   "source": [
    "import sympy as sp\n",
    "from sympy.tensor.array import derive_by_array\n",
    "\n",
    "x, y = sp.symbols('x,y')                                        # Define symbols x and y\n",
    "fun = x**4 + y**4 - x*(y**3) - (x**2)*(y**2) + x**3 + y**3      # Define a symbolic expression corresponding to f\n",
    "numfun = sp.lambdify((x,y), fun)                                # This command turns the symbolic expression f into \n",
    "                                                                       # a numerical function of two arguments\n",
    "\n",
    "grad = derive_by_array(fun, [x,y])                              # Computes the gradient of the symbolic expression expr\n",
    "numgrad = sp.lambdify((x,y),grad)                               # Numerical version of the gradient\n",
    "\n",
    "hessian = derive_by_array(grad, [x,y])\n",
    "numhessian = sp.lambdify((x,y),hessian)          \n",
    "\n",
    "#### Try to print out fun, grad and hessian to check the corresponding symbolic expression.\n",
    "#### What happens when you try to print the numerical functions?"
   ]
  },
  {
   "cell_type": "markdown",
   "metadata": {},
   "source": [
    "### Numerical Evaluation\n",
    "\n",
    "The numerical functions are actual python functions which we can evaluate numerically and plot."
   ]
  },
  {
   "cell_type": "code",
   "execution_count": null,
   "metadata": {
    "collapsed": false
   },
   "outputs": [],
   "source": [
    "import numpy as np\n",
    "import matplotlib.pyplot as plt\n",
    "from mpl_toolkits.mplot3d import Axes3D   # Object need for 3D plots\n",
    "\n",
    "xvals = np.arange(-5,5,0.2)               # Return an array containing evenly spaced values (spaced by -0.2)\n",
    "yvals = np.arange(-5,5,0.2)               # in the open interval [-5,5)\n",
    "\n",
    "X, Y = np.meshgrid(xvals, yvals)          # Same as MATLAB meshgrid: returns coordinate matrices from coordinate vectors.\n",
    "\n",
    "F = numfun(X,Y)                           # Evaluates numfun on the grid (X,Y)"
   ]
  },
  {
   "cell_type": "markdown",
   "metadata": {},
   "source": [
    "### Plotting"
   ]
  },
  {
   "cell_type": "code",
   "execution_count": null,
   "metadata": {
    "collapsed": false
   },
   "outputs": [],
   "source": [
    "fig = plt.figure()\n",
    "ax = fig.add_subplot(111, projection='3d')\n",
    "ax.plot_surface(X,Y,F)\n",
    "ax.view_init(azim=10)                     # Rotates the plot by 10 degrees. Try changing the angle.\n",
    "plt.show()"
   ]
  },
  {
   "cell_type": "markdown",
   "metadata": {},
   "source": [
    "### Contour and Gradient Plot"
   ]
  },
  {
   "cell_type": "code",
   "execution_count": null,
   "metadata": {
    "collapsed": false
   },
   "outputs": [],
   "source": [
    "U,V = numgrad(X,Y)                         # Evaluates the gradient coordinates on the grid (X,Y)\n",
    "\n",
    "plt.figure(figsize=(18, 16), dpi= 80, facecolor='w', edgecolor='k')\n",
    "\n",
    "plt.contour(X, Y, F, 10, colors = 'k', linestyles = 'solid')        # Generates the controu plot for f\n",
    "plt.axes().set_aspect('equal')                                      # Scale the plot size to get same aspect ratio\n",
    "plt.axis([-5, 5, -5, 5])\n",
    "\n",
    "plt.quiver(X, Y, U, V, edgecolor='k', scale = 5000)                 # Plots the vecotr field U,V over the grid (X,Y)\n",
    "                                                                    # while scaling the arrows by the scale factor\n",
    "\n",
    "plt.show()"
   ]
  },
  {
   "cell_type": "markdown",
   "metadata": {},
   "source": [
    "### Computing the eigenvalues of a matrix\n",
    "\n",
    "Let's compute the hessian of $f$ at point $(0,1)$."
   ]
  },
  {
   "cell_type": "code",
   "execution_count": null,
   "metadata": {
    "collapsed": false
   },
   "outputs": [],
   "source": [
    "H = numhessian(0,1)"
   ]
  },
  {
   "cell_type": "markdown",
   "metadata": {},
   "source": [
    "How can we check if it is positive semidefinite? We can find its eigenvalues using the following command. In this case one is negative and the other is positive, so the hessian is indefinite."
   ]
  },
  {
   "cell_type": "code",
   "execution_count": null,
   "metadata": {
    "collapsed": false
   },
   "outputs": [],
   "source": [
    "w,v = np.linalg.eigh(H)   # w contains the eigenvalues, v the eigenvectors. The h in eigh stands for Hermitian.\n",
    "\n",
    "w                         # print w"
   ]
  },
  {
   "cell_type": "markdown",
   "metadata": {
    "collapsed": false
   },
   "source": [
    "### Exercise: It's your turn"
   ]
  },
  {
   "cell_type": "markdown",
   "metadata": {
    "collapsed": true
   },
   "source": [
    "Consider the function given by the quadratic form of the Hessian at point (1,1). That is the function:\n",
    "$$\n",
    "g(\\vec{z}) = z^T \\; \\nabla^2 f(1,1) \\; z\n",
    "$$\n",
    "\n",
    "Adapt the code above to produce the following plots: \n",
    "\n",
    "1. 3d-representation of $g$ over $[-5,5]\\times [-5,5]$ \n",
    "2. A contour-and-gradient plot of $g$ over the same square"
   ]
  },
  {
   "cell_type": "markdown",
   "metadata": {},
   "source": [
    "## Problem 2"
   ]
  },
  {
   "cell_type": "markdown",
   "metadata": {},
   "source": [
    "Your code here"
   ]
  },
  {
   "cell_type": "markdown",
   "metadata": {},
   "source": [
    "## Problem 3"
   ]
  },
  {
   "cell_type": "markdown",
   "metadata": {},
   "source": [
    "Your code here"
   ]
  }
 ],
 "metadata": {
  "anaconda-cloud": {},
  "kernelspec": {
   "display_name": "Python [conda root]",
   "language": "python",
   "name": "conda-root-py"
  },
  "language_info": {
   "codemirror_mode": {
    "name": "ipython",
    "version": 3
   },
   "file_extension": ".py",
   "mimetype": "text/x-python",
   "name": "python",
   "nbconvert_exporter": "python",
   "pygments_lexer": "ipython3",
   "version": "3.5.2"
  },
  "latex_envs": {
   "LaTeX_envs_menu_present": true,
   "autocomplete": false,
   "bibliofile": "biblio.bib",
   "cite_by": "apalike",
   "current_citInitial": 1,
   "eqLabelWithNumbers": true,
   "eqNumInitial": 1,
   "hotkeys": {
    "equation": "Ctrl-E",
    "itemize": "Ctrl-I"
   },
   "labels_anchors": false,
   "latex_user_defs": false,
   "report_style_numbering": false,
   "user_envs_cfg": false
  }
 },
 "nbformat": 4,
 "nbformat_minor": 1
}
